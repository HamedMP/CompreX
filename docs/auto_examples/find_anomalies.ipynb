{
  "cells": [
    {
      "cell_type": "code",
      "execution_count": null,
      "metadata": {
        "collapsed": false
      },
      "outputs": [],
      "source": [
        "%matplotlib inline"
      ]
    },
    {
      "cell_type": "markdown",
      "metadata": {},
      "source": [
        "\nAn example usage with dummy data set\n\nX is the dummy dataset and we run CompreX algorithm on it by creating an estimator and\nrunning transform and fit  method of it. At the end you can call predict() method to\nget anomaly score for each sample in the dataset.\n\n"
      ]
    },
    {
      "cell_type": "code",
      "execution_count": null,
      "metadata": {
        "collapsed": false
      },
      "outputs": [],
      "source": [
        "import numpy as np\nimport pandas as pd\n\nfrom comprex.comprex import CompreX\n\nfrom sklearn.utils.estimator_checks import check_estimator\n\ncheck_estimator(CompreX)\n\nrng = np.random.RandomState(2018)\n\nX = pd.DataFrame([['a', 'b', 'x', 'n'],\n                  ['a', 'c', 'x', 'n'],\n                  ['a', 'c', 'x', 'n'],\n                  ['a', 'c', 'x', 'n'],\n                  ['a', 'c', 'y', 'm']],\n                 columns=['f1', 'f2', 'f3', 'f4'],\n                 index=[i for i in np.arange(5)],\n                 dtype='category')\n\nestimator = CompreX()\nestimator.transform(X)\nestimator.fit(X)\nprint(estimator.predict())"
      ]
    }
  ],
  "metadata": {
    "kernelspec": {
      "display_name": "Python 3",
      "language": "python",
      "name": "python3"
    },
    "language_info": {
      "codemirror_mode": {
        "name": "ipython",
        "version": 3
      },
      "file_extension": ".py",
      "mimetype": "text/x-python",
      "name": "python",
      "nbconvert_exporter": "python",
      "pygments_lexer": "ipython3",
      "version": "3.6.3"
    }
  },
  "nbformat": 4,
  "nbformat_minor": 0
}